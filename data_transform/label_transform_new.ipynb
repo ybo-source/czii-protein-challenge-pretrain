{
 "cells": [
  {
   "cell_type": "code",
   "execution_count": 22,
   "metadata": {},
   "outputs": [],
   "source": [
    "import pandas as pd\n",
    "import json\n",
    "import numpy as np\n",
    "import os\n",
    "from tqdm import tqdm\n",
    "import sys\n",
    "import os\n",
    "import numpy as np\n",
    "sys.path.append(\"/Users/yusufberkoruc/Desktop/Master_thesis/polnet\")\n",
    "from polnet.utils import *\n",
    "from polnet import lio\n",
    "from polnet import tem\n",
    "from polnet import poly as pp\n",
    "import shutil\n",
    "import random\n",
    "import time\n",
    "from polnet.stomo import (\n",
    "    SynthTomo,\n",
    "    SetTomos,\n",
    ")"
   ]
  },
  {
   "cell_type": "code",
   "execution_count": 23,
   "metadata": {},
   "outputs": [],
   "source": [
    "\n",
    "def get_absolute_paths(parent_dir):\n",
    "    \"\"\"\n",
    "    Get absolute paths of all directories inside a given directory.\n",
    "    \n",
    "    Parameters:\n",
    "        parent_dir (str): Path to the parent directory.\n",
    "    \n",
    "    Returns:\n",
    "        list: A list of absolute paths of subdirectories.\n",
    "    \"\"\"\n",
    "    return [os.path.abspath(os.path.join(parent_dir, d)) for d in os.listdir(parent_dir) if os.path.isdir(os.path.join(parent_dir, d))]\n",
    "\n",
    "\n"
   ]
  },
  {
   "cell_type": "code",
   "execution_count": 24,
   "metadata": {},
   "outputs": [],
   "source": [
    "\n",
    "def quaternion_to_matrix(q1, q2, q3, q4):\n",
    "    \"\"\"Convert quaternion to a 4x4 transformation matrix.\"\"\"\n",
    "    # Normalize quaternion\n",
    "    norm = np.sqrt(q1**2 + q2**2 + q3**2 + q4**2)\n",
    "    q1, q2, q3, q4 = q1 / norm, q2 / norm, q3 / norm, q4 / norm\n",
    "\n",
    "    # Create rotation matrix\n",
    "    rotation_matrix = np.array([\n",
    "        [1 - 2*(q2**2 + q3**2), 2*(q1*q2 - q3*q4), 2*(q1*q3 + q2*q4), 0],\n",
    "        [2*(q1*q2 + q3*q4), 1 - 2*(q1**2 + q3**2), 2*(q2*q3 - q1*q4), 0],\n",
    "        [2*(q1*q3 - q2*q4), 2*(q2*q3 + q1*q4), 1 - 2*(q1**2 + q2**2), 0],\n",
    "        [0, 0, 0, 1]\n",
    "    ])\n",
    "    return rotation_matrix.tolist()\n",
    "\n",
    "def csv_to_json(csv_file, json_directory, labels_table,mapping=None):\n",
    "    # Read CSV file with pandas (using tab separator)\n",
    "    df = pd.read_csv(csv_file, sep='\\t')\n",
    "\n",
    "    # Read labels table to create a mapping from Code to protein names\n",
    "    labels_df = pd.read_csv(labels_table, sep='\\t')\n",
    "    code_to_protein = dict(zip(labels_df['LABEL'], labels_df['MODEL']))\n",
    "    get_name = lambda x: x.split(\"/\")[1].split(\".\")[0]\n",
    "    code_to_protein = {k: get_name(v) for k, v in code_to_protein.items()}  # Convert keys to strings\n",
    "    # Filter rows where Type is either 'SAWCL' or 'Mb-SAWLC'\n",
    "    df_filtered = df[df['Type'].isin(['SAWLC', 'Mb-SAWLC'])]\n",
    "\n",
    "    # Group by the 'Code' column to create separate JSON files for each protein\n",
    "    grouped = df_filtered.groupby('Label')\n",
    "\n",
    "    # Create the JSON directory if it doesn't exist\n",
    "    os.makedirs(json_directory, exist_ok=True)\n",
    "\n",
    "    # Iterate over each group (protein code)\n",
    "    for label, group in grouped:\n",
    "        # Get the protein name from the mapping\n",
    "        protein_name = code_to_protein.get(label, str(label))  # Use code as fallback if not found\n",
    "        print(f\"Processing protein: {protein_name}\")\n",
    "        if mapping is not None:\n",
    "            protein_name = mapping.get(protein_name, protein_name)  # Use mapping if provided\n",
    "            print(f\"Mapped protein name: {protein_name}\")\n",
    "        # Check if the protein name is a valid string\n",
    "        # Check if the protein name is valid\n",
    "        if not isinstance(protein_name, str) or not protein_name:\n",
    "            print(f\"Invalid protein name for label {label}. Skipping...\")\n",
    "            continue\n",
    "        # Initialize JSON structure for this protein\n",
    "        json_data = {\n",
    "            \"pickable_object_name\": protein_name,  # Use the protein name\n",
    "            \"user_id\": \"curation\",\n",
    "            \"session_id\": \"0\",\n",
    "            \"run_name\": \"TS_5_4\",\n",
    "            \"voxel_spacing\": None,\n",
    "            \"unit\": \"angstrom\",\n",
    "            \"points\": [],\n",
    "            \"trust_orientation\": True\n",
    "        }\n",
    "\n",
    "        # Iterate over rows in the group\n",
    "        for _, row in group.iterrows():\n",
    "            # Extract relevant fields\n",
    "            x = float(row['X'])\n",
    "            y = float(row['Y'])\n",
    "            z = float(row['Z'])\n",
    "            instance_id = int(row['Label'])  # Use Label as instance_id\n",
    "            q1 = float(row['Q1'])\n",
    "            q2 = float(row['Q2'])\n",
    "            q3 = float(row['Q3'])\n",
    "            q4 = float(row['Q4'])\n",
    "\n",
    "            # Convert quaternion to transformation matrix\n",
    "            transformation = quaternion_to_matrix(q1, q2, q3, q4)\n",
    "\n",
    "            # Add point to JSON\n",
    "            json_data['points'].append({\n",
    "                \"location\": {\"x\": x, \"y\": y, \"z\": z},\n",
    "                \"transformation_\": transformation,\n",
    "                \"instance_id\": instance_id\n",
    "            })\n",
    "\n",
    "        # Define the output JSON file path\n",
    "        json_file = os.path.join(json_directory, f\"{protein_name}.json\")\n",
    "\n",
    "        # Write JSON to file\n",
    "        with open(json_file, mode='w') as file:\n",
    "            json.dump(json_data, file, indent=4)\n",
    "\n",
    "        #print(f\"Created JSON file for protein '{protein_name}' at {json_file}\")\n",
    "\n"
   ]
  },
  {
   "cell_type": "code",
   "execution_count": 25,
   "metadata": {},
   "outputs": [],
   "source": [
    "def main(in_csv_list, out_dir, csv_dir_list, labels_table,mapping_flag=True):\n",
    "    \"\"\"\n",
    "    Main function to split a CSV file by density tomograms, filter by Type, and convert to JSON.\n",
    "\n",
    "    Parameters:\n",
    "        in_csv_list (list): List of paths to the input CSV files.\n",
    "        out_dir (str): Path to the output directory where split CSVs and JSON files will be saved.\n",
    "        csv_dir_list (list): List of directories where split CSVs will be stored.\n",
    "        filter_types (list): List of Type values to filter by.\n",
    "        labels_table (str): Path to the labels table CSV file.\n",
    "    \"\"\"\n",
    "    if mapping_flag:\n",
    "        mapping = {\n",
    "            \"1fa2_10A\": \"beta-amylase\",\n",
    "            \"6drv_10A\": \"beta-galactosidase\",\n",
    "            \"6n4v_10A\": \"virus-like-particle\",\n",
    "            \"6qzp_10A\": \"ribosome\",\n",
    "            \"7n4y_10A\": \"thyroglobulin\",\n",
    "            \"8cpv_10A\": \"apo-ferritin\",\n",
    "            \"8vaf_10A\": \"albumin\"\n",
    "                }\n",
    "    else:\n",
    "        mapping = None   \n",
    "    # Create the output directory if it doesn't exist\n",
    "    os.makedirs(out_dir, exist_ok=True)\n",
    "    simulation_index = 0\n",
    "    for in_csv,csv_dir in zip(in_csv_list,csv_dir_list):\n",
    "        # Create a directory for the CSV files if it doesn't exist\n",
    "        os.makedirs(csv_dir, exist_ok=True)\n",
    "        # Load the input CSV file into a DataFrame\n",
    "        df = pd.read_csv(in_csv, sep='\\t')\n",
    "        df = df.drop(columns=['Tomo3D', 'Micrographs'], errors='ignore')\n",
    "        \n",
    "        # Group the DataFrame by the 'Density' column\n",
    "        grouped = df.groupby('Density')\n",
    "\n",
    "        # Iterate over each group and save to a separate CSV file\n",
    "        for density, group in tqdm(grouped):\n",
    "            density_csv = density.split(\"/\")[-1].split(\".\")[0]\n",
    "            density = density.split(\"/\")[-1].split(\".\")[0].split(\"_\")[-1]\n",
    "            # Check if the density is empty or None\n",
    "            if density == None or density == \"\":\n",
    "                continue\n",
    "            # Filter by 'Type' column if it exists\n",
    "            \"\"\"if 'Type' in group.columns:\n",
    "                group = group[group['Type'].isin(filter_types)]\"\"\"\n",
    "            # Construct the output file path\n",
    "            \n",
    "            csv_file_path = os.path.join(csv_dir, f'{density_csv}.csv')  # Specify the file name\n",
    "            group.to_csv(csv_file_path, sep='\\t', index=False)          \n",
    "            # Create a JSON directory for each CSV file    \n",
    "            json_output_dir = os.path.join(out_dir,\"ExperimentRuns\", f\"tomogram_{simulation_index}_{density}\",\"Picks\")\n",
    "            \n",
    "            csv_to_json(csv_file_path, json_output_dir, labels_table,mapping=mapping)\n",
    "        simulation_index += 1\n",
    "        print(f\"Simulation {simulation_index} processed.\")\n",
    "    print(\"Successfully terminated all simulations.\")\n"
   ]
  },
  {
   "cell_type": "code",
   "execution_count": 26,
   "metadata": {},
   "outputs": [],
   "source": [
    "\n",
    "def get_tomos_motif_list_paths(master_dir):\n",
    "    \"\"\"\n",
    "    Get the absolute paths of 'tomos_motif_list.csv' from all subdirectories in a master directory.\n",
    "    \n",
    "    Parameters:\n",
    "        master_dir (str): Path to the master directory containing subdirectories.\n",
    "    \n",
    "    Returns:\n",
    "        list: A list of absolute paths to 'tomos_motif_list.csv' files in each subdirectory.\n",
    "    \"\"\"\n",
    "    motif_paths = []\n",
    "    \n",
    "    # Iterate through all subdirectories in the master directory\n",
    "    for subdir, _, files in os.walk(master_dir):\n",
    "        if 'tomos_motif_list.csv' in files:\n",
    "            # Construct the absolute path for the csv file\n",
    "            motif_paths.append(os.path.abspath(os.path.join(subdir, 'tomos_motif_list.csv')))\n",
    "    \n",
    "    return motif_paths\n",
    "\n"
   ]
  },
  {
   "cell_type": "code",
   "execution_count": 27,
   "metadata": {},
   "outputs": [
    {
     "name": "stdout",
     "output_type": "stream",
     "text": [
      "Searching in: /Users/yusufberkoruc/Desktop/Master_thesis/simulation_dir_1/all_v_czii\n",
      "Found labels_table.csv at: /Users/yusufberkoruc/Desktop/Master_thesis/simulation_dir_1/all_v_czii/labels_table.csv\n"
     ]
    }
   ],
   "source": [
    "def find_labels_table(simulation_dirs, filename=\"labels_table.csv\"):\n",
    "    \"\"\"\n",
    "    Search for the labels_table.csv file in the given simulation directories.\n",
    "\n",
    "    Parameters:\n",
    "        simulation_dirs (list): List of simulation directories to search in.\n",
    "        filename (str): Name of the file to search for (default is 'labels_table.csv').\n",
    "\n",
    "    Returns:\n",
    "        str: Path to the labels_table.csv file if found, otherwise raises an error.\n",
    "    \"\"\"\n",
    "    for sim_dir in simulation_dirs:\n",
    "        print(f\"Searching in: {sim_dir}\")\n",
    "        potential_path = os.path.join(sim_dir, filename)\n",
    "        if os.path.exists(potential_path):\n",
    "            print(f\"Found {filename} at: {potential_path}\")\n",
    "            return potential_path\n",
    "    raise FileNotFoundError(f\"{filename} not found in any of the simulation directories.\")\n",
    "\n",
    "# Example usage\n",
    "# Find the labels_table.csv file\n",
    "simulation_dirs = [\"/Users/yusufberkoruc/Desktop/Master_thesis/simulation_dir_1/all_v_czii\"]\n",
    "labels_table = find_labels_table(simulation_dirs)"
   ]
  },
  {
   "cell_type": "code",
   "execution_count": 29,
   "metadata": {},
   "outputs": [
    {
     "name": "stdout",
     "output_type": "stream",
     "text": [
      "['/Users/yusufberkoruc/Desktop/Master_thesis/simulation_dir_1/all_v_czii/tomos_motif_list.csv']\n",
      "['/Users/yusufberkoruc/Desktop/Master_thesis/simulation_dir_1/all_v_czii/csv']\n"
     ]
    },
    {
     "name": "stderr",
     "output_type": "stream",
     "text": [
      "  3%|▎         | 1/30 [00:01<00:54,  1.88s/it]"
     ]
    },
    {
     "name": "stdout",
     "output_type": "stream",
     "text": [
      "Processing protein: 6drv_10A\n",
      "Mapped protein name: beta-galactosidase\n",
      "Processing protein: 6n4v_10A\n",
      "Mapped protein name: virus-like-particle\n",
      "Processing protein: 6qzp_10A\n",
      "Mapped protein name: ribosome\n",
      "Processing protein: 7n4y_10A\n",
      "Mapped protein name: thyroglobulin\n",
      "Processing protein: 8cpv_10A\n",
      "Mapped protein name: apo-ferritin\n",
      "Processing protein: 8vaf_10A\n",
      "Mapped protein name: albumin\n",
      "Processing protein: 1fa2_10A\n",
      "Mapped protein name: beta-amylase\n"
     ]
    },
    {
     "name": "stderr",
     "output_type": "stream",
     "text": [
      "  7%|▋         | 2/30 [00:04<01:10,  2.52s/it]"
     ]
    },
    {
     "name": "stdout",
     "output_type": "stream",
     "text": [
      "Processing protein: 6drv_10A\n",
      "Mapped protein name: beta-galactosidase\n",
      "Processing protein: 6n4v_10A\n",
      "Mapped protein name: virus-like-particle\n",
      "Processing protein: 6qzp_10A\n",
      "Mapped protein name: ribosome\n",
      "Processing protein: 7n4y_10A\n",
      "Mapped protein name: thyroglobulin\n",
      "Processing protein: 8cpv_10A\n",
      "Mapped protein name: apo-ferritin\n",
      "Processing protein: 8vaf_10A\n",
      "Mapped protein name: albumin\n",
      "Processing protein: 1fa2_10A\n",
      "Mapped protein name: beta-amylase\n"
     ]
    },
    {
     "name": "stderr",
     "output_type": "stream",
     "text": [
      " 10%|█         | 3/30 [00:08<01:15,  2.81s/it]"
     ]
    },
    {
     "name": "stdout",
     "output_type": "stream",
     "text": [
      "Processing protein: 6drv_10A\n",
      "Mapped protein name: beta-galactosidase\n",
      "Processing protein: 6n4v_10A\n",
      "Mapped protein name: virus-like-particle\n",
      "Processing protein: 6qzp_10A\n",
      "Mapped protein name: ribosome\n",
      "Processing protein: 7n4y_10A\n",
      "Mapped protein name: thyroglobulin\n",
      "Processing protein: 8cpv_10A\n",
      "Mapped protein name: apo-ferritin\n",
      "Processing protein: 8vaf_10A\n",
      "Mapped protein name: albumin\n",
      "Processing protein: 1fa2_10A\n",
      "Mapped protein name: beta-amylase\n"
     ]
    },
    {
     "name": "stderr",
     "output_type": "stream",
     "text": [
      " 13%|█▎        | 4/30 [00:11<01:16,  2.94s/it]"
     ]
    },
    {
     "name": "stdout",
     "output_type": "stream",
     "text": [
      "Processing protein: 6drv_10A\n",
      "Mapped protein name: beta-galactosidase\n",
      "Processing protein: 6n4v_10A\n",
      "Mapped protein name: virus-like-particle\n",
      "Processing protein: 6qzp_10A\n",
      "Mapped protein name: ribosome\n",
      "Processing protein: 7n4y_10A\n",
      "Mapped protein name: thyroglobulin\n",
      "Processing protein: 8cpv_10A\n",
      "Mapped protein name: apo-ferritin\n",
      "Processing protein: 8vaf_10A\n",
      "Mapped protein name: albumin\n",
      "Processing protein: 1fa2_10A\n",
      "Mapped protein name: beta-amylase\n"
     ]
    },
    {
     "name": "stderr",
     "output_type": "stream",
     "text": [
      " 17%|█▋        | 5/30 [00:15<01:26,  3.44s/it]"
     ]
    },
    {
     "name": "stdout",
     "output_type": "stream",
     "text": [
      "Processing protein: 6drv_10A\n",
      "Mapped protein name: beta-galactosidase\n",
      "Processing protein: 6n4v_10A\n",
      "Mapped protein name: virus-like-particle\n",
      "Processing protein: 6qzp_10A\n",
      "Mapped protein name: ribosome\n",
      "Processing protein: 7n4y_10A\n",
      "Mapped protein name: thyroglobulin\n",
      "Processing protein: 8cpv_10A\n",
      "Mapped protein name: apo-ferritin\n",
      "Processing protein: 8vaf_10A\n",
      "Mapped protein name: albumin\n",
      "Processing protein: 1fa2_10A\n",
      "Mapped protein name: beta-amylase\n"
     ]
    },
    {
     "name": "stderr",
     "output_type": "stream",
     "text": [
      " 20%|██        | 6/30 [00:18<01:18,  3.26s/it]"
     ]
    },
    {
     "name": "stdout",
     "output_type": "stream",
     "text": [
      "Processing protein: 6drv_10A\n",
      "Mapped protein name: beta-galactosidase\n",
      "Processing protein: 6n4v_10A\n",
      "Mapped protein name: virus-like-particle\n",
      "Processing protein: 6qzp_10A\n",
      "Mapped protein name: ribosome\n",
      "Processing protein: 7n4y_10A\n",
      "Mapped protein name: thyroglobulin\n",
      "Processing protein: 8cpv_10A\n",
      "Mapped protein name: apo-ferritin\n",
      "Processing protein: 8vaf_10A\n",
      "Mapped protein name: albumin\n",
      "Processing protein: 1fa2_10A\n",
      "Mapped protein name: beta-amylase\n"
     ]
    },
    {
     "name": "stderr",
     "output_type": "stream",
     "text": [
      " 23%|██▎       | 7/30 [00:22<01:22,  3.59s/it]"
     ]
    },
    {
     "name": "stdout",
     "output_type": "stream",
     "text": [
      "Processing protein: 6drv_10A\n",
      "Mapped protein name: beta-galactosidase\n",
      "Processing protein: 6n4v_10A\n",
      "Mapped protein name: virus-like-particle\n",
      "Processing protein: 6qzp_10A\n",
      "Mapped protein name: ribosome\n",
      "Processing protein: 7n4y_10A\n",
      "Mapped protein name: thyroglobulin\n",
      "Processing protein: 8cpv_10A\n",
      "Mapped protein name: apo-ferritin\n",
      "Processing protein: 8vaf_10A\n",
      "Mapped protein name: albumin\n",
      "Processing protein: 1fa2_10A\n",
      "Mapped protein name: beta-amylase\n"
     ]
    },
    {
     "name": "stderr",
     "output_type": "stream",
     "text": [
      " 27%|██▋       | 8/30 [00:25<01:11,  3.24s/it]"
     ]
    },
    {
     "name": "stdout",
     "output_type": "stream",
     "text": [
      "Processing protein: 6drv_10A\n",
      "Mapped protein name: beta-galactosidase\n",
      "Processing protein: 6n4v_10A\n",
      "Mapped protein name: virus-like-particle\n",
      "Processing protein: 6qzp_10A\n",
      "Mapped protein name: ribosome\n",
      "Processing protein: 7n4y_10A\n",
      "Mapped protein name: thyroglobulin\n",
      "Processing protein: 8cpv_10A\n",
      "Mapped protein name: apo-ferritin\n",
      "Processing protein: 8vaf_10A\n",
      "Mapped protein name: albumin\n",
      "Processing protein: 1fa2_10A\n",
      "Mapped protein name: beta-amylase\n"
     ]
    },
    {
     "name": "stderr",
     "output_type": "stream",
     "text": [
      " 30%|███       | 9/30 [00:27<01:04,  3.06s/it]"
     ]
    },
    {
     "name": "stdout",
     "output_type": "stream",
     "text": [
      "Processing protein: 6drv_10A\n",
      "Mapped protein name: beta-galactosidase\n",
      "Processing protein: 6n4v_10A\n",
      "Mapped protein name: virus-like-particle\n",
      "Processing protein: 6qzp_10A\n",
      "Mapped protein name: ribosome\n",
      "Processing protein: 7n4y_10A\n",
      "Mapped protein name: thyroglobulin\n",
      "Processing protein: 8cpv_10A\n",
      "Mapped protein name: apo-ferritin\n",
      "Processing protein: 8vaf_10A\n",
      "Mapped protein name: albumin\n",
      "Processing protein: 1fa2_10A\n",
      "Mapped protein name: beta-amylase\n"
     ]
    },
    {
     "name": "stderr",
     "output_type": "stream",
     "text": [
      " 33%|███▎      | 10/30 [00:31<01:04,  3.24s/it]"
     ]
    },
    {
     "name": "stdout",
     "output_type": "stream",
     "text": [
      "Processing protein: 6drv_10A\n",
      "Mapped protein name: beta-galactosidase\n",
      "Processing protein: 6n4v_10A\n",
      "Mapped protein name: virus-like-particle\n",
      "Processing protein: 6qzp_10A\n",
      "Mapped protein name: ribosome\n",
      "Processing protein: 7n4y_10A\n",
      "Mapped protein name: thyroglobulin\n",
      "Processing protein: 8cpv_10A\n",
      "Mapped protein name: apo-ferritin\n",
      "Processing protein: 8vaf_10A\n",
      "Mapped protein name: albumin\n",
      "Processing protein: 1fa2_10A\n",
      "Mapped protein name: beta-amylase\n"
     ]
    },
    {
     "name": "stderr",
     "output_type": "stream",
     "text": [
      " 37%|███▋      | 11/30 [00:35<01:04,  3.40s/it]"
     ]
    },
    {
     "name": "stdout",
     "output_type": "stream",
     "text": [
      "Processing protein: 6drv_10A\n",
      "Mapped protein name: beta-galactosidase\n",
      "Processing protein: 6n4v_10A\n",
      "Mapped protein name: virus-like-particle\n",
      "Processing protein: 6qzp_10A\n",
      "Mapped protein name: ribosome\n",
      "Processing protein: 7n4y_10A\n",
      "Mapped protein name: thyroglobulin\n",
      "Processing protein: 8cpv_10A\n",
      "Mapped protein name: apo-ferritin\n",
      "Processing protein: 8vaf_10A\n",
      "Mapped protein name: albumin\n",
      "Processing protein: 1fa2_10A\n",
      "Mapped protein name: beta-amylase\n"
     ]
    },
    {
     "name": "stderr",
     "output_type": "stream",
     "text": [
      " 40%|████      | 12/30 [00:37<00:57,  3.21s/it]"
     ]
    },
    {
     "name": "stdout",
     "output_type": "stream",
     "text": [
      "Processing protein: 6drv_10A\n",
      "Mapped protein name: beta-galactosidase\n",
      "Processing protein: 6n4v_10A\n",
      "Mapped protein name: virus-like-particle\n",
      "Processing protein: 6qzp_10A\n",
      "Mapped protein name: ribosome\n",
      "Processing protein: 7n4y_10A\n",
      "Mapped protein name: thyroglobulin\n",
      "Processing protein: 8cpv_10A\n",
      "Mapped protein name: apo-ferritin\n",
      "Processing protein: 8vaf_10A\n",
      "Mapped protein name: albumin\n",
      "Processing protein: 1fa2_10A\n",
      "Mapped protein name: beta-amylase\n"
     ]
    },
    {
     "name": "stderr",
     "output_type": "stream",
     "text": [
      " 43%|████▎     | 13/30 [00:41<00:54,  3.23s/it]"
     ]
    },
    {
     "name": "stdout",
     "output_type": "stream",
     "text": [
      "Processing protein: 6drv_10A\n",
      "Mapped protein name: beta-galactosidase\n",
      "Processing protein: 6n4v_10A\n",
      "Mapped protein name: virus-like-particle\n",
      "Processing protein: 6qzp_10A\n",
      "Mapped protein name: ribosome\n",
      "Processing protein: 7n4y_10A\n",
      "Mapped protein name: thyroglobulin\n",
      "Processing protein: 8cpv_10A\n",
      "Mapped protein name: apo-ferritin\n",
      "Processing protein: 8vaf_10A\n",
      "Mapped protein name: albumin\n",
      "Processing protein: 1fa2_10A\n",
      "Mapped protein name: beta-amylase\n"
     ]
    },
    {
     "name": "stderr",
     "output_type": "stream",
     "text": [
      " 47%|████▋     | 14/30 [00:43<00:46,  2.90s/it]"
     ]
    },
    {
     "name": "stdout",
     "output_type": "stream",
     "text": [
      "Processing protein: 6drv_10A\n",
      "Mapped protein name: beta-galactosidase\n",
      "Processing protein: 6n4v_10A\n",
      "Mapped protein name: virus-like-particle\n",
      "Processing protein: 6qzp_10A\n",
      "Mapped protein name: ribosome\n",
      "Processing protein: 7n4y_10A\n",
      "Mapped protein name: thyroglobulin\n",
      "Processing protein: 8cpv_10A\n",
      "Mapped protein name: apo-ferritin\n",
      "Processing protein: 8vaf_10A\n",
      "Mapped protein name: albumin\n",
      "Processing protein: 1fa2_10A\n",
      "Mapped protein name: beta-amylase\n"
     ]
    },
    {
     "name": "stderr",
     "output_type": "stream",
     "text": [
      " 50%|█████     | 15/30 [00:45<00:42,  2.81s/it]"
     ]
    },
    {
     "name": "stdout",
     "output_type": "stream",
     "text": [
      "Processing protein: 6drv_10A\n",
      "Mapped protein name: beta-galactosidase\n",
      "Processing protein: 6n4v_10A\n",
      "Mapped protein name: virus-like-particle\n",
      "Processing protein: 6qzp_10A\n",
      "Mapped protein name: ribosome\n",
      "Processing protein: 7n4y_10A\n",
      "Mapped protein name: thyroglobulin\n",
      "Processing protein: 8cpv_10A\n",
      "Mapped protein name: apo-ferritin\n",
      "Processing protein: 8vaf_10A\n",
      "Mapped protein name: albumin\n",
      "Processing protein: 1fa2_10A\n",
      "Mapped protein name: beta-amylase\n"
     ]
    },
    {
     "name": "stderr",
     "output_type": "stream",
     "text": [
      " 53%|█████▎    | 16/30 [00:48<00:38,  2.76s/it]"
     ]
    },
    {
     "name": "stdout",
     "output_type": "stream",
     "text": [
      "Processing protein: 6drv_10A\n",
      "Mapped protein name: beta-galactosidase\n",
      "Processing protein: 6n4v_10A\n",
      "Mapped protein name: virus-like-particle\n",
      "Processing protein: 6qzp_10A\n",
      "Mapped protein name: ribosome\n",
      "Processing protein: 7n4y_10A\n",
      "Mapped protein name: thyroglobulin\n",
      "Processing protein: 8cpv_10A\n",
      "Mapped protein name: apo-ferritin\n",
      "Processing protein: 8vaf_10A\n",
      "Mapped protein name: albumin\n",
      "Processing protein: 1fa2_10A\n",
      "Mapped protein name: beta-amylase\n"
     ]
    },
    {
     "name": "stderr",
     "output_type": "stream",
     "text": [
      " 57%|█████▋    | 17/30 [00:52<00:40,  3.14s/it]"
     ]
    },
    {
     "name": "stdout",
     "output_type": "stream",
     "text": [
      "Processing protein: 6drv_10A\n",
      "Mapped protein name: beta-galactosidase\n",
      "Processing protein: 6n4v_10A\n",
      "Mapped protein name: virus-like-particle\n",
      "Processing protein: 6qzp_10A\n",
      "Mapped protein name: ribosome\n",
      "Processing protein: 7n4y_10A\n",
      "Mapped protein name: thyroglobulin\n",
      "Processing protein: 8cpv_10A\n",
      "Mapped protein name: apo-ferritin\n",
      "Processing protein: 8vaf_10A\n",
      "Mapped protein name: albumin\n",
      "Processing protein: 1fa2_10A\n",
      "Mapped protein name: beta-amylase\n"
     ]
    },
    {
     "name": "stderr",
     "output_type": "stream",
     "text": [
      " 60%|██████    | 18/30 [00:54<00:33,  2.83s/it]"
     ]
    },
    {
     "name": "stdout",
     "output_type": "stream",
     "text": [
      "Processing protein: 6drv_10A\n",
      "Mapped protein name: beta-galactosidase\n",
      "Processing protein: 6n4v_10A\n",
      "Mapped protein name: virus-like-particle\n",
      "Processing protein: 6qzp_10A\n",
      "Mapped protein name: ribosome\n",
      "Processing protein: 7n4y_10A\n",
      "Mapped protein name: thyroglobulin\n",
      "Processing protein: 8cpv_10A\n",
      "Mapped protein name: apo-ferritin\n",
      "Processing protein: 8vaf_10A\n",
      "Mapped protein name: albumin\n",
      "Processing protein: 1fa2_10A\n",
      "Mapped protein name: beta-amylase\n"
     ]
    },
    {
     "name": "stderr",
     "output_type": "stream",
     "text": [
      " 63%|██████▎   | 19/30 [00:57<00:30,  2.77s/it]"
     ]
    },
    {
     "name": "stdout",
     "output_type": "stream",
     "text": [
      "Processing protein: 6drv_10A\n",
      "Mapped protein name: beta-galactosidase\n",
      "Processing protein: 6n4v_10A\n",
      "Mapped protein name: virus-like-particle\n",
      "Processing protein: 6qzp_10A\n",
      "Mapped protein name: ribosome\n",
      "Processing protein: 7n4y_10A\n",
      "Mapped protein name: thyroglobulin\n",
      "Processing protein: 8cpv_10A\n",
      "Mapped protein name: apo-ferritin\n",
      "Processing protein: 8vaf_10A\n",
      "Mapped protein name: albumin\n",
      "Processing protein: 1fa2_10A\n",
      "Mapped protein name: beta-amylase\n"
     ]
    },
    {
     "name": "stderr",
     "output_type": "stream",
     "text": [
      " 67%|██████▋   | 20/30 [00:59<00:24,  2.50s/it]"
     ]
    },
    {
     "name": "stdout",
     "output_type": "stream",
     "text": [
      "Processing protein: 6drv_10A\n",
      "Mapped protein name: beta-galactosidase\n",
      "Processing protein: 6n4v_10A\n",
      "Mapped protein name: virus-like-particle\n",
      "Processing protein: 6qzp_10A\n",
      "Mapped protein name: ribosome\n",
      "Processing protein: 7n4y_10A\n",
      "Mapped protein name: thyroglobulin\n",
      "Processing protein: 8cpv_10A\n",
      "Mapped protein name: apo-ferritin\n",
      "Processing protein: 8vaf_10A\n",
      "Mapped protein name: albumin\n",
      "Processing protein: 1fa2_10A\n",
      "Mapped protein name: beta-amylase\n"
     ]
    },
    {
     "name": "stderr",
     "output_type": "stream",
     "text": [
      " 70%|███████   | 21/30 [01:02<00:25,  2.83s/it]"
     ]
    },
    {
     "name": "stdout",
     "output_type": "stream",
     "text": [
      "Processing protein: 6drv_10A\n",
      "Mapped protein name: beta-galactosidase\n",
      "Processing protein: 6n4v_10A\n",
      "Mapped protein name: virus-like-particle\n",
      "Processing protein: 6qzp_10A\n",
      "Mapped protein name: ribosome\n",
      "Processing protein: 7n4y_10A\n",
      "Mapped protein name: thyroglobulin\n",
      "Processing protein: 8cpv_10A\n",
      "Mapped protein name: apo-ferritin\n",
      "Processing protein: 8vaf_10A\n",
      "Mapped protein name: albumin\n",
      "Processing protein: 1fa2_10A\n",
      "Mapped protein name: beta-amylase\n"
     ]
    },
    {
     "name": "stderr",
     "output_type": "stream",
     "text": [
      " 73%|███████▎  | 22/30 [01:04<00:19,  2.47s/it]"
     ]
    },
    {
     "name": "stdout",
     "output_type": "stream",
     "text": [
      "Processing protein: 6drv_10A\n",
      "Mapped protein name: beta-galactosidase\n",
      "Processing protein: 6n4v_10A\n",
      "Mapped protein name: virus-like-particle\n",
      "Processing protein: 6qzp_10A\n",
      "Mapped protein name: ribosome\n",
      "Processing protein: 7n4y_10A\n",
      "Mapped protein name: thyroglobulin\n",
      "Processing protein: 8cpv_10A\n",
      "Mapped protein name: apo-ferritin\n",
      "Processing protein: 8vaf_10A\n",
      "Mapped protein name: albumin\n",
      "Processing protein: 1fa2_10A\n",
      "Mapped protein name: beta-amylase\n"
     ]
    },
    {
     "name": "stderr",
     "output_type": "stream",
     "text": [
      " 77%|███████▋  | 23/30 [01:06<00:15,  2.20s/it]"
     ]
    },
    {
     "name": "stdout",
     "output_type": "stream",
     "text": [
      "Processing protein: 6drv_10A\n",
      "Mapped protein name: beta-galactosidase\n",
      "Processing protein: 6n4v_10A\n",
      "Mapped protein name: virus-like-particle\n",
      "Processing protein: 6qzp_10A\n",
      "Mapped protein name: ribosome\n",
      "Processing protein: 7n4y_10A\n",
      "Mapped protein name: thyroglobulin\n",
      "Processing protein: 8cpv_10A\n",
      "Mapped protein name: apo-ferritin\n",
      "Processing protein: 8vaf_10A\n",
      "Mapped protein name: albumin\n",
      "Processing protein: 1fa2_10A\n",
      "Mapped protein name: beta-amylase\n"
     ]
    },
    {
     "name": "stderr",
     "output_type": "stream",
     "text": [
      " 80%|████████  | 24/30 [01:08<00:14,  2.39s/it]"
     ]
    },
    {
     "name": "stdout",
     "output_type": "stream",
     "text": [
      "Processing protein: 6drv_10A\n",
      "Mapped protein name: beta-galactosidase\n",
      "Processing protein: 6n4v_10A\n",
      "Mapped protein name: virus-like-particle\n",
      "Processing protein: 6qzp_10A\n",
      "Mapped protein name: ribosome\n",
      "Processing protein: 7n4y_10A\n",
      "Mapped protein name: thyroglobulin\n",
      "Processing protein: 8cpv_10A\n",
      "Mapped protein name: apo-ferritin\n",
      "Processing protein: 8vaf_10A\n",
      "Mapped protein name: albumin\n",
      "Processing protein: 1fa2_10A\n",
      "Mapped protein name: beta-amylase\n"
     ]
    },
    {
     "name": "stderr",
     "output_type": "stream",
     "text": [
      " 83%|████████▎ | 25/30 [01:11<00:12,  2.45s/it]"
     ]
    },
    {
     "name": "stdout",
     "output_type": "stream",
     "text": [
      "Processing protein: 6drv_10A\n",
      "Mapped protein name: beta-galactosidase\n",
      "Processing protein: 6n4v_10A\n",
      "Mapped protein name: virus-like-particle\n",
      "Processing protein: 6qzp_10A\n",
      "Mapped protein name: ribosome\n",
      "Processing protein: 7n4y_10A\n",
      "Mapped protein name: thyroglobulin\n",
      "Processing protein: 8cpv_10A\n",
      "Mapped protein name: apo-ferritin\n",
      "Processing protein: 8vaf_10A\n",
      "Mapped protein name: albumin\n",
      "Processing protein: 1fa2_10A\n",
      "Mapped protein name: beta-amylase\n"
     ]
    },
    {
     "name": "stderr",
     "output_type": "stream",
     "text": [
      " 87%|████████▋ | 26/30 [01:15<00:12,  3.01s/it]"
     ]
    },
    {
     "name": "stdout",
     "output_type": "stream",
     "text": [
      "Processing protein: 6drv_10A\n",
      "Mapped protein name: beta-galactosidase\n",
      "Processing protein: 6n4v_10A\n",
      "Mapped protein name: virus-like-particle\n",
      "Processing protein: 6qzp_10A\n",
      "Mapped protein name: ribosome\n",
      "Processing protein: 7n4y_10A\n",
      "Mapped protein name: thyroglobulin\n",
      "Processing protein: 8cpv_10A\n",
      "Mapped protein name: apo-ferritin\n",
      "Processing protein: 8vaf_10A\n",
      "Mapped protein name: albumin\n",
      "Processing protein: 1fa2_10A\n",
      "Mapped protein name: beta-amylase\n"
     ]
    },
    {
     "name": "stderr",
     "output_type": "stream",
     "text": [
      " 90%|█████████ | 27/30 [01:17<00:07,  2.61s/it]"
     ]
    },
    {
     "name": "stdout",
     "output_type": "stream",
     "text": [
      "Processing protein: 6drv_10A\n",
      "Mapped protein name: beta-galactosidase\n",
      "Processing protein: 6n4v_10A\n",
      "Mapped protein name: virus-like-particle\n",
      "Processing protein: 6qzp_10A\n",
      "Mapped protein name: ribosome\n",
      "Processing protein: 7n4y_10A\n",
      "Mapped protein name: thyroglobulin\n",
      "Processing protein: 8cpv_10A\n",
      "Mapped protein name: apo-ferritin\n",
      "Processing protein: 8vaf_10A\n",
      "Mapped protein name: albumin\n",
      "Processing protein: 1fa2_10A\n",
      "Mapped protein name: beta-amylase\n"
     ]
    },
    {
     "name": "stderr",
     "output_type": "stream",
     "text": [
      " 93%|█████████▎| 28/30 [01:20<00:05,  2.69s/it]"
     ]
    },
    {
     "name": "stdout",
     "output_type": "stream",
     "text": [
      "Processing protein: 6drv_10A\n",
      "Mapped protein name: beta-galactosidase\n",
      "Processing protein: 6n4v_10A\n",
      "Mapped protein name: virus-like-particle\n",
      "Processing protein: 6qzp_10A\n",
      "Mapped protein name: ribosome\n",
      "Processing protein: 7n4y_10A\n",
      "Mapped protein name: thyroglobulin\n",
      "Processing protein: 8cpv_10A\n",
      "Mapped protein name: apo-ferritin\n",
      "Processing protein: 8vaf_10A\n",
      "Mapped protein name: albumin\n",
      "Processing protein: 1fa2_10A\n",
      "Mapped protein name: beta-amylase\n"
     ]
    },
    {
     "name": "stderr",
     "output_type": "stream",
     "text": [
      " 97%|█████████▋| 29/30 [01:22<00:02,  2.54s/it]"
     ]
    },
    {
     "name": "stdout",
     "output_type": "stream",
     "text": [
      "Processing protein: 6drv_10A\n",
      "Mapped protein name: beta-galactosidase\n",
      "Processing protein: 6n4v_10A\n",
      "Mapped protein name: virus-like-particle\n",
      "Processing protein: 6qzp_10A\n",
      "Mapped protein name: ribosome\n",
      "Processing protein: 7n4y_10A\n",
      "Mapped protein name: thyroglobulin\n",
      "Processing protein: 8cpv_10A\n",
      "Mapped protein name: apo-ferritin\n",
      "Processing protein: 8vaf_10A\n",
      "Mapped protein name: albumin\n",
      "Processing protein: 1fa2_10A\n",
      "Mapped protein name: beta-amylase\n"
     ]
    },
    {
     "name": "stderr",
     "output_type": "stream",
     "text": [
      "100%|██████████| 30/30 [01:24<00:00,  2.81s/it]"
     ]
    },
    {
     "name": "stdout",
     "output_type": "stream",
     "text": [
      "Processing protein: 6drv_10A\n",
      "Mapped protein name: beta-galactosidase\n",
      "Processing protein: 6n4v_10A\n",
      "Mapped protein name: virus-like-particle\n",
      "Processing protein: 6qzp_10A\n",
      "Mapped protein name: ribosome\n",
      "Processing protein: 7n4y_10A\n",
      "Mapped protein name: thyroglobulin\n",
      "Processing protein: 8cpv_10A\n",
      "Mapped protein name: apo-ferritin\n",
      "Processing protein: 8vaf_10A\n",
      "Mapped protein name: albumin\n",
      "Processing protein: 1fa2_10A\n",
      "Mapped protein name: beta-amylase\n",
      "Simulation 1 processed.\n",
      "Successfully terminated all simulations.\n"
     ]
    },
    {
     "name": "stderr",
     "output_type": "stream",
     "text": [
      "\n"
     ]
    }
   ],
   "source": [
    "simulation_dir = \"/Users/yusufberkoruc/Desktop/Master_thesis/simulation_dir_1\"\n",
    "in_csv_list = get_tomos_motif_list_paths(simulation_dir)\n",
    "in_csv_list = sorted(in_csv_list)\n",
    "print(in_csv_list)\n",
    "out_dir = \"/Users/yusufberkoruc/Desktop/Master_thesis/overlay_try\"\n",
    "csv_dir_list = get_absolute_paths(simulation_dir)\n",
    "csv_dir_list = [os.path.join(d, \"csv\") for d in csv_dir_list]\n",
    "print(csv_dir_list)\n",
    "filter_types = ['SAWLC', 'Mb-SAWLC']\n",
    "# Call the main function\n",
    "main(in_csv_list, out_dir, csv_dir_list, labels_table,mapping_flag=True)"
   ]
  },
  {
   "cell_type": "code",
   "execution_count": null,
   "metadata": {},
   "outputs": [],
   "source": [
    "import os\n",
    "import re\n",
    "\n",
    "def delete_tomo_mics_files(base_dir):\n",
    "    \"\"\"\n",
    "    Deletes files with the 'tomo_mics_...' naming structure in the given directory and its subdirectories.\n",
    "\n",
    "    Parameters:\n",
    "        base_dir (str): Path to the base directory containing tomogram directories.\n",
    "    \"\"\"\n",
    "    # Regular expression to match 'tomo_mics_...' file names\n",
    "    pattern = re.compile(r\"^tomo_mics_.*\\.mrc$\")\n",
    "\n",
    "    # Walk through the directory and its subdirectories\n",
    "    for root, _, files in os.walk(base_dir):\n",
    "        for file in files:\n",
    "            # Check if the file matches the pattern\n",
    "            if pattern.match(file):\n",
    "                file_path = os.path.join(root, file)\n",
    "                try:\n",
    "                    os.remove(file_path)\n",
    "                    print(f\"Deleted: {file_path}\")\n",
    "                except Exception as e:\n",
    "                    print(f\"Failed to delete {file_path}: {e}\")\n",
    "\n",
    "\"\"\"# Specify the base directory\n",
    "base_dir = \"/Users/yusufberkoruc/Desktop/Master_thesis/polnet/train/static/ExperimentRuns\"\n",
    "\n",
    "# Call the function\n",
    "delete_tomo_mics_files(base_dir)\"\"\""
   ]
  }
 ],
 "metadata": {
  "kernelspec": {
   "display_name": "polnet",
   "language": "python",
   "name": "python3"
  },
  "language_info": {
   "codemirror_mode": {
    "name": "ipython",
    "version": 3
   },
   "file_extension": ".py",
   "mimetype": "text/x-python",
   "name": "python",
   "nbconvert_exporter": "python",
   "pygments_lexer": "ipython3",
   "version": "3.13.2"
  }
 },
 "nbformat": 4,
 "nbformat_minor": 2
}
